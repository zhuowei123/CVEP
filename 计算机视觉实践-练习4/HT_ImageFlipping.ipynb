{
 "cells": [
  {
   "cell_type": "code",
   "execution_count": 4,
   "id": "228fa341-5df2-46cd-af4a-67c130bbf673",
   "metadata": {},
   "outputs": [],
   "source": [
    "import cv2\n",
    "import numpy as np"
   ]
  },
  {
   "cell_type": "code",
   "execution_count": 5,
   "id": "cb012df0-6b34-4df5-a27f-ffd3a0ab5b23",
   "metadata": {},
   "outputs": [
    {
     "name": "stdout",
     "output_type": "stream",
     "text": [
      "img pixel value at( 624 , 61 ): [94 84 86]\n",
      "img pixel value at( 100 , 332 ): [75 55 73]\n",
      "img pixel value at( 398 , 590 ): [16 17 51]\n",
      "img pixel value at( 927 , 273 ): [98 98 98]\n",
      "[[624, 61], [100, 332], [398, 590], [927, 273]]\n"
     ]
    }
   ],
   "source": [
    "img = cv2.imread('data/book.png')\n",
    "img_hsv = cv2.cvtColor(img,cv2.COLOR_BGR2HSV) #转换到hsv空间\n",
    "#print(img.shape)\n",
    "src = []\n",
    "def mouse_event(event,x,y,flags,param):\n",
    "    if event == cv2.EVENT_LBUTTONDBLCLK:   #双击左键显示图像的坐标和对应的rgb值\n",
    "        print('img pixel value at(', x, ',', y, '):',img[y, x])  #坐标(x,y)对应的像素值应该是img[y,x]\n",
    "        text = '(' + str(x) + ',' + str(y) + ')' + str(img[y,x])\n",
    "        cv2.putText(img,text,(x,y),cv2.FONT_HERSHEY_SIMPLEX,0.5,(255,0,0),1)  #绘制文字\n",
    "        src.append([x,y])\n",
    "    if event == cv2.EVENT_RBUTTONDBLCLK:   #双击右键显示图像的坐标和对应的hsv值\n",
    "        print('img_hsv pixel value at(', x, ',', y, '):',img_hsv[y, x])  #坐标(x,y)对应的像素值应该是img_hsv[y,x]\n",
    "        text = '(' + str(x) + ',' + str(y) + ')' + str(img_hsv[y,x])\n",
    "        cv2.putText(img,text,(x,y),cv2.FONT_HERSHEY_SIMPLEX,0.5,(0,0,255),1)  #绘制文字\n",
    "cv2.namedWindow('image',cv2.WINDOW_NORMAL)  #定义窗口\n",
    "#cv2.resizeWindow('image',(800,800))\n",
    "   \n",
    "cv2.setMouseCallback('image',mouse_event)  #鼠标回调\n",
    "  \n",
    "while True:\n",
    "    cv2.imshow('image',img)\n",
    "    if cv2.waitKey(1)==ord('q'):\n",
    "        break\n",
    "  \n",
    "cv2.destroyAllWindows()\n",
    "print(src)"
   ]
  },
  {
   "cell_type": "code",
   "execution_count": 6,
   "id": "59b92b1c-08e8-4c7b-8bdd-c0da24405b15",
   "metadata": {},
   "outputs": [
    {
     "name": "stdout",
     "output_type": "stream",
     "text": [
      "[[ 3.78018138e-01  7.30928060e-01 -2.80469930e+02]\n",
      " [-3.06728251e-01  4.38389905e-01  1.64656644e+02]\n",
      " [-2.26586927e-05  3.62599217e-04  1.00000000e+00]]\n"
     ]
    }
   ],
   "source": [
    "img_book = cv2.imread('data/book.png')\n",
    "h,w,c =img_book.shape\n",
    "src = np.float32(src) #用微信截图来确定roi区域的四个角的坐标点位置(或者用鼠标事件输出四角坐标)\n",
    "# dst = np.float32([[300,200],[300,500],[510,500],[510,200]]) \n",
    "dst = np.float32([[0,0],[0,250],[250,250],[250,0]])  #只保留roi区域，warpPerspective函数中尺寸设置为roi的宽高\n",
    "\n",
    "M = cv2.getPerspectiveTransform(src,dst) #透视变换矩阵\n",
    "print(M)\n",
    " \n",
    "# new_book = cv2.warpPerspective(img_book,M,(w,h)) #透视变换  二维平面获得接近三维物体的视觉效果的算法\n",
    "new = cv2.warpPerspective(img,M,(210,300)) #透视变换  变换后的roi区域的宽高，只保留roi区域\n",
    "  \n",
    "cv2.imshow('img_book',img)\n",
    "cv2.imshow('new_book',new)\n",
    "cv2.waitKey(0)\n",
    "cv2.destroyAllWindows()"
   ]
  },
  {
   "cell_type": "code",
   "execution_count": null,
   "id": "4efec01b-76ff-4c81-833a-82fbbe2978c1",
   "metadata": {},
   "outputs": [],
   "source": []
  }
 ],
 "metadata": {
  "kernelspec": {
   "display_name": "TSAI",
   "language": "python",
   "name": "tsai"
  },
  "language_info": {
   "codemirror_mode": {
    "name": "ipython",
    "version": 3
   },
   "file_extension": ".py",
   "mimetype": "text/x-python",
   "name": "python",
   "nbconvert_exporter": "python",
   "pygments_lexer": "ipython3",
   "version": "3.8.18"
  }
 },
 "nbformat": 4,
 "nbformat_minor": 5
}

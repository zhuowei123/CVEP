{
 "cells": [
  {
   "cell_type": "code",
   "execution_count": 3,
   "id": "80c9022a-6f6f-474c-a25b-3f703295bef2",
   "metadata": {},
   "outputs": [
    {
     "name": "stdout",
     "output_type": "stream",
     "text": [
      "img pixel value at( 262 , 34 ): [210 207 182]\n",
      "img pixel value at( 259 , 230 ): [204 207 192]\n",
      "img pixel value at( 481 , 307 ): [168 156 130]\n",
      "img pixel value at( 474 , 220 ): [72 63 41]\n",
      "[[262, 34], [259, 230], [481, 307], [474, 220]]\n"
     ]
    }
   ],
   "source": [
    "import cv2\n",
    "import numpy as np\n",
    "  \n",
    "img = cv2.imread('data/guanggao.png')\n",
    "img_hsv = cv2.cvtColor(img,cv2.COLOR_BGR2HSV) #转换到hsv空间\n",
    "#print(img.shape)\n",
    "src1 = []\n",
    "def mouse_event(event,x,y,flags,param):\n",
    "    if event == cv2.EVENT_LBUTTONDBLCLK:   #双击左键显示图像的坐标和对应的rgb值\n",
    "        print('img pixel value at(', x, ',', y, '):',img[y, x])  #坐标(x,y)对应的像素值应该是img[y,x]\n",
    "        text = '(' + str(x) + ',' + str(y) + ')' + str(img[y,x])\n",
    "        cv2.putText(img,text,(x,y),cv2.FONT_HERSHEY_SIMPLEX,0.5,(255,0,0),1)  #绘制文字\n",
    "        src1.append([x,y])\n",
    "    if event == cv2.EVENT_RBUTTONDBLCLK:   #双击右键显示图像的坐标和对应的hsv值\n",
    "        print('img_hsv pixel value at(', x, ',', y, '):',img_hsv[y, x])  #坐标(x,y)对应的像素值应该是img_hsv[y,x]\n",
    "        text = '(' + str(x) + ',' + str(y) + ')' + str(img_hsv[y,x])\n",
    "        cv2.putText(img,text,(x,y),cv2.FONT_HERSHEY_SIMPLEX,0.5,(0,0,255),1)  #绘制文字\n",
    "  \n",
    "cv2.namedWindow('image',cv2.WINDOW_NORMAL)  #定义窗口\n",
    "#cv2.resizeWindow('image',(800,800))\n",
    "   \n",
    "cv2.setMouseCallback('image',mouse_event)  #鼠标回调\n",
    "  \n",
    "while True:\n",
    "    cv2.imshow('image',img)\n",
    "    if cv2.waitKey(1)==ord('q'):\n",
    "        break\n",
    "  \n",
    "cv2.destroyAllWindows()\n",
    "print(src1)"
   ]
  },
  {
   "cell_type": "code",
   "execution_count": 4,
   "id": "7d5fc93f-8936-4708-8b10-1d653972a4f1",
   "metadata": {},
   "outputs": [],
   "source": [
    "img1 = cv2.imread('data/family.png')\n",
    "img2 = cv2.imread('data/guanggao.png')\n",
    "h1,w1,c1 = img1.shape\n",
    "\n",
    " \n",
    "src = np.float32([[0,0],[0,h1-1],[w1-1,h1-1],[w1-1,0]])  #需要嵌入的原图片的四角坐标（img1） 逆时针坐标\n",
    "dst = np.float32(src1)  # 待嵌入图片区域的位置坐标（img2）\n",
    " \n",
    "M = cv2.getPerspectiveTransform(src,dst) #透视变换矩阵\n",
    " \n",
    "h2,w2,c2 = img2.shape\n",
    "new_img1 = cv2.warpPerspective(img1,M,(w2,h2)) #透视变换  二维平面获得接近三维物体的视觉效果的算法\n",
    " \n",
    "# dst = np.array([[174,308],[117,617],[830,544],[832,88]])\n",
    " \n",
    "dst = dst.astype(int)  #多边形的坐标需要整型\n",
    " \n",
    "cv2.fillConvexPoly(img2,dst,[0,0,0])   # 用多边形填充的办法把嵌入区域的像素全部变成0\n",
    " \n",
    "new_img = cv2.add(img2,new_img1)   #把变换后的图片插入到广告牌的位置\n",
    " \n",
    "  \n",
    "cv2.imshow('img1',img1)\n",
    "cv2.imshow('new_img1',new_img1)\n",
    "cv2.imshow('new_img',new_img)\n",
    "cv2.waitKey(0)\n",
    "cv2.destroyAllWindows()"
   ]
  },
  {
   "cell_type": "code",
   "execution_count": null,
   "id": "8112591e-7948-4e1c-8d88-ebefcccd6467",
   "metadata": {},
   "outputs": [],
   "source": []
  }
 ],
 "metadata": {
  "kernelspec": {
   "display_name": "TSAI",
   "language": "python",
   "name": "tsai"
  },
  "language_info": {
   "codemirror_mode": {
    "name": "ipython",
    "version": 3
   },
   "file_extension": ".py",
   "mimetype": "text/x-python",
   "name": "python",
   "nbconvert_exporter": "python",
   "pygments_lexer": "ipython3",
   "version": "3.8.18"
  }
 },
 "nbformat": 4,
 "nbformat_minor": 5
}
